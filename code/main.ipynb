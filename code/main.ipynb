{
 "cells": [
  {
   "cell_type": "markdown",
   "metadata": {},
   "source": [
    "# More tuning"
   ]
  },
  {
   "cell_type": "code",
   "execution_count": 1,
   "metadata": {
    "ExecuteTime": {
     "end_time": "2018-04-06T01:44:22.909170Z",
     "start_time": "2018-04-06T01:44:21.754517Z"
    }
   },
   "outputs": [
    {
     "name": "stdout",
     "output_type": "stream",
     "text": [
      "Packages loaded.\n"
     ]
    }
   ],
   "source": [
    "import nbloader\n",
    "from demo_process import *\n",
    "print (\"Packages loaded.\")"
   ]
  },
  {
   "cell_type": "markdown",
   "metadata": {},
   "source": [
    "#### Preprocess data"
   ]
  },
  {
   "cell_type": "code",
   "execution_count": 2,
   "metadata": {
    "ExecuteTime": {
     "end_time": "2018-04-06T01:44:26.877629Z",
     "start_time": "2018-04-06T01:44:22.912826Z"
    }
   },
   "outputs": [
    {
     "name": "stdout",
     "output_type": "stream",
     "text": [
      "Preprocess done.\n"
     ]
    }
   ],
   "source": [
    "dirPath = '../data'\n",
    "id2idx,nTotalTxt,nTotalChildren = get_unique_idx(_dirPath=dirPath,_VERBOSE=False)\n",
    "totalFeats,trajList,uniqueChildIdxList,titleList \\\n",
    "    = preprocess_traj(_dirPath=dirPath,_nTotalTxt=nTotalTxt\n",
    "                    ,_nTotalChildren=nTotalChildren,_id2idx=id2idx\n",
    "                    ,_VERBOSE=False,_PLOT_SMOOTHED_TRAJ=False)\n",
    "print (\"Preprocess done.\")"
   ]
  },
  {
   "cell_type": "markdown",
   "metadata": {
    "ExecuteTime": {
     "end_time": "2018-04-06T01:03:10.006615Z",
     "start_time": "2018-04-06T01:03:10.001495Z"
    }
   },
   "source": [
    "#### Animate (takes time)"
   ]
  },
  {
   "cell_type": "code",
   "execution_count": 3,
   "metadata": {
    "ExecuteTime": {
     "end_time": "2018-04-06T01:44:26.886265Z",
     "start_time": "2018-04-06T01:44:26.881291Z"
    },
    "scrolled": true
   },
   "outputs": [],
   "source": [
    "ANIMATE_TRAJ = False\n",
    "if ANIMATE_TRAJ:\n",
    "    fIdx,nTick = 0,100\n",
    "    frames = make_frames(_traj=trajList[fIdx]\n",
    "                         ,_uniqueChildList=uniqueChildIdxList[fIdx],_nTick=nTick)\n",
    "    animate_frames(_frames=frames,_figsize=(8,8),_title=titleList[fIdx])"
   ]
  },
  {
   "cell_type": "markdown",
   "metadata": {},
   "source": [
    "#### Test classification results"
   ]
  },
  {
   "cell_type": "code",
   "execution_count": 35,
   "metadata": {
    "ExecuteTime": {
     "end_time": "2018-04-06T01:49:03.008801Z",
     "start_time": "2018-04-06T01:49:00.885784Z"
    }
   },
   "outputs": [
    {
     "name": "stdout",
     "output_type": "stream",
     "text": [
      "Avg accr:60.32% ([0.611 0.5   0.389 0.5   0.722 0.722 0.778])\n"
     ]
    }
   ],
   "source": [
    "nCluster,chunkSec,reduceDim  = 5,10,10 # 5,10,5:60% / \n",
    "nTrain = 40 # Use 40 children for traning, 18 for testing\n",
    "surveyRes = get_surveyRes()\n",
    "nzrFeat,nzdTotalFeats = get_noramlized_feat(totalFeats,_VERBOSE=False)\n",
    "chunks_total = split_trajs(nzdTotalFeats,chunkSec,_VERBOSE=False)\n",
    "nTest = len(chunks_total) - nTrain\n",
    "centers,Ured = reduce_dim_n_cluster(chunks_total,reduceDim,nCluster\n",
    "                                    ,nTrain,nTest,_VERBOSE=False,_PLOT_HIST=False)\n",
    "featHistTotal = get_featHist(chunks_total,centers,Ured,nCluster,_VERBOSE=False)\n",
    "xTrain,yTrain = featHistTotal[:nTrain,:],surveyRes[:nTrain,:]\n",
    "xTest,yTest = featHistTotal[nTrain:,:],surveyRes[nTrain:,:]\n",
    "avgAccr,accuracy_list = run_xgboost(xTrain,yTrain,xTest,yTest,surveyRes.shape[1]\n",
    "                ,_VERBOSE=False,_eta=0.1,_gamma=10,_max_depth=5,_num_round=50\n",
    "                ,_min_child_weight=3,_colsample_bytree=0.7)\n",
    "np.set_printoptions(precision=3)\n",
    "print (\"Avg accr:%.2f%% (%s)\"%(avgAccr*100,accuracy_list))"
   ]
  },
  {
   "cell_type": "code",
   "execution_count": null,
   "metadata": {},
   "outputs": [],
   "source": []
  }
 ],
 "metadata": {
  "kernelspec": {
   "display_name": "Python 2",
   "language": "python",
   "name": "python2"
  },
  "language_info": {
   "codemirror_mode": {
    "name": "ipython",
    "version": 2
   },
   "file_extension": ".py",
   "mimetype": "text/x-python",
   "name": "python",
   "nbconvert_exporter": "python",
   "pygments_lexer": "ipython2",
   "version": "2.7.12"
  }
 },
 "nbformat": 4,
 "nbformat_minor": 2
}
